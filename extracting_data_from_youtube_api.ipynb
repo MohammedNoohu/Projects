{
 "cells": [
  {
   "cell_type": "code",
   "execution_count": 1,
   "metadata": {
    "id": "BkqEbyrrSd5D"
   },
   "outputs": [],
   "source": [
    "#import libraries\n",
    "import requests\n",
    "import pandas as pd\n",
    "import time"
   ]
  },
  {
   "cell_type": "code",
   "execution_count": 2,
   "metadata": {
    "id": "yN5zGnx7XMNa"
   },
   "outputs": [],
   "source": [
    "#Keys\n",
    "API_KEY = \"xxxxxxxxxxxxxxxxxxxxx\"\n",
    "CHANNEL_ID = \"xxxxxxxxxxxxxxxxxxxxx\""
   ]
  },
  {
   "cell_type": "code",
   "execution_count": 6,
   "metadata": {
    "id": "PuvL2HsqoJ8J"
   },
   "outputs": [],
   "source": [
    "def get_video_details(video_id):\n",
    "\n",
    "    #collecting view, like, comment counts\n",
    "    url_video_stats = \"https://www.googleapis.com/youtube/v3/videos?id=\"+video_id+\"&part=statistics&key=\"+API_KEY\n",
    "    response_video_stats = requests.get(url_video_stats).json()\n",
    "    for items in response_video_stats['items']:\n",
    "        view_count = items['statistics']['viewCount']\n",
    "        like_count = items['statistics']['likeCount']\n",
    "        comment_count = items['statistics']['commentCount']\n",
    "\n",
    "    return view_count, like_count, comment_count"
   ]
  },
  {
   "cell_type": "code",
   "execution_count": 14,
   "metadata": {
    "id": "8l13hjKIdduW"
   },
   "outputs": [],
   "source": [
    "def get_videos(df):\n",
    "    pageToken = \"\"\n",
    "    while 1:\n",
    "        url = \"https://www.googleapis.com/youtube/v3/search?key=\"+API_KEY+\"&channelId=\"+CHANNEL_ID+\"&part=snippet,id&order=date&maxResults=10000&\"+pageToken\n",
    "\n",
    "        response = requests.get(url).json()\n",
    "        time.sleep(1) #give it a second before starting the for loop\n",
    "        for video in response['items']:\n",
    "            if video['id']['kind'] == \"youtube#video\":\n",
    "                video_id = video['id']['videoId']\n",
    "                video_title = video['snippet']['title']\n",
    "                video_title = str(video_title).replace(\"&amp;\",\"\")\n",
    "                upload_date = video['snippet']['publishedAt']\n",
    "                upload_date = str(upload_date).split(\"T\")[0]\n",
    "                \n",
    "                view_count, like_count, comment_count = get_video_details(video_id)\n",
    "\n",
    "                df = df.append({'video_id':video_id,'video_title':video_title,\n",
    "                                \"upload_date\":upload_date,\"view_count\":view_count,\n",
    "                                \"like_count\":like_count,\"comment_count\":comment_count},ignore_index=True)\n",
    "        try:\n",
    "            if response['nextPageToken'] != None: #if none, it means it reached the last page and break out of it\n",
    "                pageToken = \"pageToken=\" + response['nextPageToken']\n",
    "\n",
    "        except:\n",
    "            break\n",
    "\n",
    "\n",
    "    return df"
   ]
  },
  {
   "cell_type": "code",
   "execution_count": null,
   "metadata": {
    "id": "v1NMEFet6kRC"
   },
   "outputs": [],
   "source": [
    "#main\n",
    "\n",
    "#build our dataframe\n",
    "df2 = pd.DataFrame(columns=[\"video_id\",\"video_title\",\"upload_date\",\"view_count\",\"like_count\",\"comment_count\"]) \n",
    "\n",
    "df2 = get_videos(df2)"
   ]
  },
  {
   "cell_type": "code",
   "execution_count": 12,
   "metadata": {
    "colab": {
     "base_uri": "https://localhost:8080/",
     "height": 419
    },
    "id": "laI5tSLSvkSx",
    "outputId": "2a575507-d2d6-4668-807a-a401a800b154"
   },
   "outputs": [
    {
     "data": {
      "text/html": [
       "<div>\n",
       "<style scoped>\n",
       "    .dataframe tbody tr th:only-of-type {\n",
       "        vertical-align: middle;\n",
       "    }\n",
       "\n",
       "    .dataframe tbody tr th {\n",
       "        vertical-align: top;\n",
       "    }\n",
       "\n",
       "    .dataframe thead th {\n",
       "        text-align: right;\n",
       "    }\n",
       "</style>\n",
       "<table border=\"1\" class=\"dataframe\">\n",
       "  <thead>\n",
       "    <tr style=\"text-align: right;\">\n",
       "      <th></th>\n",
       "      <th>video_id</th>\n",
       "      <th>video_title</th>\n",
       "      <th>upload_date</th>\n",
       "      <th>view_count</th>\n",
       "      <th>like_count</th>\n",
       "      <th>comment_count</th>\n",
       "    </tr>\n",
       "  </thead>\n",
       "  <tbody>\n",
       "    <tr>\n",
       "      <th>0</th>\n",
       "      <td>rbRYsAgwPBA</td>\n",
       "      <td>Using IFNULL() on a Google SQL Interview Question</td>\n",
       "      <td>2023-04-19</td>\n",
       "      <td>346</td>\n",
       "      <td>19</td>\n",
       "      <td>0</td>\n",
       "    </tr>\n",
       "    <tr>\n",
       "      <th>1</th>\n",
       "      <td>IWo8H8U_Ugk</td>\n",
       "      <td>Sorting and Ranking Data in Python: An Overvie...</td>\n",
       "      <td>2023-04-18</td>\n",
       "      <td>133</td>\n",
       "      <td>4</td>\n",
       "      <td>0</td>\n",
       "    </tr>\n",
       "    <tr>\n",
       "      <th>2</th>\n",
       "      <td>2uu0prXMhfU</td>\n",
       "      <td>How to Rank() Your Data In Python Pandas</td>\n",
       "      <td>2023-04-12</td>\n",
       "      <td>621</td>\n",
       "      <td>34</td>\n",
       "      <td>1</td>\n",
       "    </tr>\n",
       "    <tr>\n",
       "      <th>3</th>\n",
       "      <td>sF6gngs9myY</td>\n",
       "      <td>38 Data Science Tools For Beginners to Experts</td>\n",
       "      <td>2023-04-05</td>\n",
       "      <td>1675</td>\n",
       "      <td>131</td>\n",
       "      <td>12</td>\n",
       "    </tr>\n",
       "    <tr>\n",
       "      <th>4</th>\n",
       "      <td>Y5-eAFnxMjU</td>\n",
       "      <td>Maximizing Profits: Solving the Uber Data Proj...</td>\n",
       "      <td>2023-04-04</td>\n",
       "      <td>240</td>\n",
       "      <td>9</td>\n",
       "      <td>0</td>\n",
       "    </tr>\n",
       "    <tr>\n",
       "      <th>...</th>\n",
       "      <td>...</td>\n",
       "      <td>...</td>\n",
       "      <td>...</td>\n",
       "      <td>...</td>\n",
       "      <td>...</td>\n",
       "      <td>...</td>\n",
       "    </tr>\n",
       "    <tr>\n",
       "      <th>144</th>\n",
       "      <td>UX4_IgagL9I</td>\n",
       "      <td>How to Use Google Colaboratory | Import a CSV ...</td>\n",
       "      <td>2020-05-02</td>\n",
       "      <td>2554</td>\n",
       "      <td>15</td>\n",
       "      <td>2</td>\n",
       "    </tr>\n",
       "    <tr>\n",
       "      <th>145</th>\n",
       "      <td>tDdo3FiWpgE</td>\n",
       "      <td>Interview Questions for SQL Joins and Subqueries</td>\n",
       "      <td>2020-02-01</td>\n",
       "      <td>1917</td>\n",
       "      <td>29</td>\n",
       "      <td>0</td>\n",
       "    </tr>\n",
       "    <tr>\n",
       "      <th>146</th>\n",
       "      <td>wW827gqxlRY</td>\n",
       "      <td>SQL Job Interview Mistakes #2</td>\n",
       "      <td>2019-09-15</td>\n",
       "      <td>1178</td>\n",
       "      <td>21</td>\n",
       "      <td>0</td>\n",
       "    </tr>\n",
       "    <tr>\n",
       "      <th>147</th>\n",
       "      <td>xbc2GpGUXwc</td>\n",
       "      <td>SQL Job Interview Mistakes #1</td>\n",
       "      <td>2019-08-03</td>\n",
       "      <td>8156</td>\n",
       "      <td>76</td>\n",
       "      <td>1</td>\n",
       "    </tr>\n",
       "    <tr>\n",
       "      <th>148</th>\n",
       "      <td>n6gM265zG68</td>\n",
       "      <td>SQL Query Interview Questions And Answers From...</td>\n",
       "      <td>2019-06-26</td>\n",
       "      <td>44219</td>\n",
       "      <td>580</td>\n",
       "      <td>8</td>\n",
       "    </tr>\n",
       "  </tbody>\n",
       "</table>\n",
       "<p>149 rows × 6 columns</p>\n",
       "</div>"
      ],
      "text/plain": [
       "        video_id                                        video_title  \\\n",
       "0    rbRYsAgwPBA  Using IFNULL() on a Google SQL Interview Question   \n",
       "1    IWo8H8U_Ugk  Sorting and Ranking Data in Python: An Overvie...   \n",
       "2    2uu0prXMhfU           How to Rank() Your Data In Python Pandas   \n",
       "3    sF6gngs9myY     38 Data Science Tools For Beginners to Experts   \n",
       "4    Y5-eAFnxMjU  Maximizing Profits: Solving the Uber Data Proj...   \n",
       "..           ...                                                ...   \n",
       "144  UX4_IgagL9I  How to Use Google Colaboratory | Import a CSV ...   \n",
       "145  tDdo3FiWpgE   Interview Questions for SQL Joins and Subqueries   \n",
       "146  wW827gqxlRY                      SQL Job Interview Mistakes #2   \n",
       "147  xbc2GpGUXwc                      SQL Job Interview Mistakes #1   \n",
       "148  n6gM265zG68  SQL Query Interview Questions And Answers From...   \n",
       "\n",
       "    upload_date view_count like_count comment_count  \n",
       "0    2023-04-19        346         19             0  \n",
       "1    2023-04-18        133          4             0  \n",
       "2    2023-04-12        621         34             1  \n",
       "3    2023-04-05       1675        131            12  \n",
       "4    2023-04-04        240          9             0  \n",
       "..          ...        ...        ...           ...  \n",
       "144  2020-05-02       2554         15             2  \n",
       "145  2020-02-01       1917         29             0  \n",
       "146  2019-09-15       1178         21             0  \n",
       "147  2019-08-03       8156         76             1  \n",
       "148  2019-06-26      44219        580             8  \n",
       "\n",
       "[149 rows x 6 columns]"
      ]
     },
     "execution_count": 12,
     "metadata": {},
     "output_type": "execute_result"
    }
   ],
   "source": [
    "df2"
   ]
  },
  {
   "cell_type": "code",
   "execution_count": 13,
   "metadata": {
    "id": "t8laAmHlY7Qw"
   },
   "outputs": [],
   "source": [
    "df2.to_csv('youtube_vids_1st_pull.csv')"
   ]
  },
  {
   "cell_type": "code",
   "execution_count": null,
   "metadata": {
    "id": "DH7hfKCvZDLi"
   },
   "outputs": [],
   "source": []
  }
 ],
 "metadata": {
  "colab": {
   "name": "extracting_data_from_youtube_api.ipynb",
   "provenance": []
  },
  "kernelspec": {
   "display_name": "Python 3 (ipykernel)",
   "language": "python",
   "name": "python3"
  },
  "language_info": {
   "codemirror_mode": {
    "name": "ipython",
    "version": 3
   },
   "file_extension": ".py",
   "mimetype": "text/x-python",
   "name": "python",
   "nbconvert_exporter": "python",
   "pygments_lexer": "ipython3",
   "version": "3.9.12"
  }
 },
 "nbformat": 4,
 "nbformat_minor": 1
}
